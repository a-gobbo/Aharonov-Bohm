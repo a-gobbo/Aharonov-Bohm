{
 "cells": [
  {
   "cell_type": "code",
   "execution_count": null,
   "id": "9989dd6f-86fa-4f21-9d31-1c67a318c4dc",
   "metadata": {
    "tags": []
   },
   "outputs": [],
   "source": [
    "import numpy as np\n",
    "import math\n",
    "import matplotlib.pyplot as plt\n",
    "from matplotlib.animation import PillowWriter\n",
    "import numba\n",
    "from numba import jit\n",
    "from IPython.display import HTML\n",
    "from matplotlib.ticker import MultipleLocator\n",
    "from scipy.signal import find_peaks\n",
    "\n",
    "# physical quantities\n",
    "e_charge = -1.602176634e-19\n",
    "hbar = 1.05457182e-30\n",
    "e_mass = 9.1093837e-31\n",
    "\n",
    "# lattice size in space and time\n",
    "L = 6 # in centimeter\n",
    "T = 0.1 # in seconds\n",
    "x_0 = 3 # in centimeter\n",
    "y_0 = 3 # in centimeter\n",
    "\n",
    "# lattice quantities\n",
    "Nx = 400  # Number of x-axis points\n",
    "Ny = 400 # Number of y-axis points\n",
    "Nt = 500000 # Number of temporal-axis points\n",
    "\n",
    "# lattice spacing\n",
    "a_t = T / Nt\n",
    "a_x = L / Nx\n",
    "a_y = L / Ny\n",
    "\n",
    "# lattice initialization\n",
    "vec_x = np.linspace(-x_0, L - x_0, Nx)\n",
    "vec_y = np.linspace(-y_0, L - y_0, Ny)\n",
    "\n",
    "x, y = np.meshgrid(vec_x, vec_y)\n",
    "\n",
    "# Gaussian wave packet initialization\n",
    "n_kx = 20 # x momentum\n",
    "n_ky = 0 # y momentum\n",
    "\n",
    "# Initial wave packet on lattice\n",
    "psi_0 = np.zeros([2, Ny, Nx],dtype=np.complex64) # first row of two integer is used for time evolution\n",
    "psi_0[0] = np.exp(-((y) ** 2 / (2 * 1 ** 2) + ( x + 1) ** 2 / (2 * 0.5 ** 2)) + 2 * math.pi / L * 1j * n_kx * x)\n",
    "\n",
    "# Normalization to 1\n",
    "normal = np.sum(np.absolute(psi_0[0]) ** 2) * a_x * a_y \n",
    "psi_0[0] = psi_0[0] / np.sqrt(normal)\n",
    "\n",
    "\n",
    "# psi_0 plot\n",
    "plt.imshow((np.absolute(psi_0[0]) ** 2), cmap='inferno', origin='lower', extent=[- x_0, L - x_0,- y_0, L - y_0])\n",
    "plt.colorbar(label=f'Probability density')\n",
    "plt.xlabel('x [cm]')\n",
    "plt.ylabel('y [cm]')\n",
    "plt.title('Initial wave packet')\n",
    "\n",
    "plt.show()"
   ]
  },
  {
   "cell_type": "code",
   "execution_count": 2,
   "id": "1f9950b6-7bfe-4408-9355-159e30091d52",
   "metadata": {
    "tags": []
   },
   "outputs": [
    {
     "ename": "NameError",
     "evalue": "name 'np' is not defined",
     "output_type": "error",
     "traceback": [
      "\u001b[1;31m---------------------------------------------------------------------------\u001b[0m",
      "\u001b[1;31mNameError\u001b[0m                                 Traceback (most recent call last)",
      "Cell \u001b[1;32mIn[2], line 2\u001b[0m\n\u001b[0;32m      1\u001b[0m \u001b[38;5;66;03m# Potential function \u001b[39;00m\n\u001b[1;32m----> 2\u001b[0m V \u001b[38;5;241m=\u001b[39m np\u001b[38;5;241m.\u001b[39mzeros([Ny,Nx])\n\u001b[0;32m      4\u001b[0m \u001b[38;5;66;03m# Positioning of the wall on x axis\u001b[39;00m\n\u001b[0;32m      5\u001b[0m N_min_wall \u001b[38;5;241m=\u001b[39m \u001b[38;5;241m190\u001b[39m\u001b[38;5;66;03m#95#190\u001b[39;00m\n",
      "\u001b[1;31mNameError\u001b[0m: name 'np' is not defined"
     ]
    }
   ],
   "source": [
    "# Potential function \n",
    "V = np.zeros([Ny,Nx])\n",
    "\n",
    "# Positioning of the wall on x axis\n",
    "N_min_wall = 190#95#190\n",
    "N_max_wall = 210#105#210\n",
    "# to cm\n",
    "x_min_wall = N_min_wall * a_x + x_0\n",
    "x_max_wall = N_max_wall * a_x + x_0\n",
    "wall_thick = round(np.absolute(x_max_wall-x_min_wall),2)\n",
    "\n",
    "# Positioning of slits (1 and 2) width on y axis\n",
    "N_left_s1 = 160#120#80#160\n",
    "N_right_s1 = 180#135#90#180\n",
    "N_left_s2 = 220#165#110#220\n",
    "N_right_s2 = 240#180#120#240\n",
    "\n",
    "left_s1 = N_left_s1 * a_y - y_0\n",
    "right_s1 = N_right_s1 * a_y - y_0\n",
    "left_s2 = N_left_s2 * a_y - y_0\n",
    "right_s2 = N_right_s2 * a_y - y_0\n",
    "\n",
    "\n",
    "# Slits width (l) and distance between their center (d)\n",
    "l = round(np.absolute(left_s1-right_s1),2)\n",
    "d = round(np.absolute((left_s1 + right_s1)/2 - (left_s2 + right_s2)/2 ),2)\n",
    "\n",
    "# Assigning a value to the potential where the wall is placed\n",
    "for i in range(N_min_wall, N_max_wall):\n",
    "    for j in range(0, N_left_s1):\n",
    "        V[j, i] = 1\n",
    "    for j in range(N_right_s1, N_left_s2):\n",
    "        V[j, i] = 1\n",
    "    for j in range(N_right_s2, Ny):\n",
    "        V[j, i] = 1\n",
    "\n",
    "# Check slits and wall position\n",
    "print(\"Slits lenght:\" ,l)\n",
    "print(\"Slits distance:\" ,d)\n",
    "print(\"Wall thickness:\" ,wall_thick)\n",
    "\n",
    "#-----------------------------------------------------\n",
    "\n",
    "# Magnetic vctor potential\n",
    "\n",
    "# Position of the singularity\n",
    "N_centre_x = 200#150#100#200\n",
    "centre_x = N_centre_x * a_x - x_0\n",
    "\n",
    "# Vector potential function\n",
    "def vector_pot(x, y):\n",
    "    r_squared = (x-centre_x)**2 + (y)**2\n",
    "    mask = (r_squared < 0.01)\n",
    "    \n",
    "    u = np.where(mask, 0, -(y) / r_squared)\n",
    "    v = np.where(mask, 0, (x-centre_x) / r_squared)\n",
    "    return u, v\n",
    "\n",
    "# Vector potential component on lattice\n",
    "Ax, Ay = vector_pot(x, y)\n",
    "\n",
    "# Physical quantites\n",
    "B = 5e-8 # Magnetic field\n",
    "R = 0.01 # Solenoid radius\n",
    "phi = math.pi * R ** 2 * abs(B) # Magnetic flux\n",
    "\n",
    "# Coefficient of the finite differtence formula (see .pdf)\n",
    "gamma1 = hbar / e_mass\n",
    "gamma2 = phi * e_charge / (2 * math.pi * e_mass)\n",
    "gamma3 = (phi * e_charge) ** 2 / (8 * math.pi ** 2 * e_mass * hbar)\n",
    "\n",
    "C1_x = gamma1 * a_t / a_x ** 2\n",
    "C1_y = gamma1 * a_t / a_y ** 2\n",
    "C2_x = gamma2 * a_t / a_x\n",
    "C2_y = gamma2 * a_t / a_y \n",
    "C3 = gamma3 * a_t\n",
    "\n",
    "# Check\n",
    "print(\"Numerical coefficients:\" ,C1_x,C2_x,C3)\n",
    "\n",
    "# potential plot\n",
    "plt.imshow(V+Ax, cmap='inferno', origin='lower', extent=[- x_0, L - x_0,- y_0, L - y_0])\n",
    "plt.colorbar(label=f'Probability density')\n",
    "plt.xlabel('x [cm]')\n",
    "plt.ylabel('y [cm]')\n",
    "plt.title('Initial wave packet')\n",
    "\n",
    "plt.show()"
   ]
  },
  {
   "cell_type": "code",
   "execution_count": 3,
   "id": "892ed162-f079-462d-88a4-f4b5744e7fa7",
   "metadata": {
    "tags": []
   },
   "outputs": [
    {
     "ename": "NameError",
     "evalue": "name 'numba' is not defined",
     "output_type": "error",
     "traceback": [
      "\u001b[1;31m---------------------------------------------------------------------------\u001b[0m",
      "\u001b[1;31mNameError\u001b[0m                                 Traceback (most recent call last)",
      "Cell \u001b[1;32mIn[3], line 2\u001b[0m\n\u001b[0;32m      1\u001b[0m \u001b[38;5;66;03m# Finite difference formula\u001b[39;00m\n\u001b[1;32m----> 2\u001b[0m \u001b[38;5;129m@numba\u001b[39m\u001b[38;5;241m.\u001b[39mjit(\u001b[38;5;124m\"\u001b[39m\u001b[38;5;124mc16[:,:,:](c16[:,:,:],float32,float32,float32,float32,float32)\u001b[39m\u001b[38;5;124m\"\u001b[39m, nopython\u001b[38;5;241m=\u001b[39m\u001b[38;5;28;01mTrue\u001b[39;00m, nogil\u001b[38;5;241m=\u001b[39m\u001b[38;5;28;01mTrue\u001b[39;00m)\n\u001b[0;32m      3\u001b[0m \u001b[38;5;28;01mdef\u001b[39;00m \u001b[38;5;21mcompute_psi\u001b[39m(psi,C1_x,C1_y,C2_x,C2_y,C3):\n\u001b[0;32m      4\u001b[0m     \u001b[38;5;28;01mfor\u001b[39;00m t \u001b[38;5;129;01min\u001b[39;00m \u001b[38;5;28mrange\u001b[39m(\u001b[38;5;241m0\u001b[39m, Nt\u001b[38;5;241m-\u001b[39m\u001b[38;5;241m1\u001b[39m):\n\u001b[0;32m      5\u001b[0m         \u001b[38;5;28;01mfor\u001b[39;00m i \u001b[38;5;129;01min\u001b[39;00m \u001b[38;5;28mrange\u001b[39m(\u001b[38;5;241m0\u001b[39m, Ny):\n",
      "\u001b[1;31mNameError\u001b[0m: name 'numba' is not defined"
     ]
    }
   ],
   "source": [
    "# Finite difference formula\n",
    "@numba.jit(\"c16[:,:,:](c16[:,:,:],float32,float32,float32,float32,float32)\", nopython=True, nogil=True)\n",
    "def compute_psi(psi,C1_x,C1_y,C2_x,C2_y,C3):\n",
    "    for t in range(0, Nt-1):\n",
    "        for i in range(0, Ny):\n",
    "            ip=(Ny+i+1)%(Ny)\n",
    "            im= (Ny+i-1)%(Ny)\n",
    "            for k in range(0, Nx):\n",
    "                kp=(Nx+k+1)%(Nx)\n",
    "                km= (Nx+k-1)%(Nx)\n",
    "                if V[i][k] == 0: # solution is computed outside the wall   \n",
    "                    psi[1][i][k] = psi[0][i][k] * (1 - 1j * a_t * V[i][k] - 1j * C1_x - 1j * C1_y - 1j * C3 * (Ax[i][k] ** 2 + Ay[i][k] ** 2) ) \\\n",
    "                 + psi[0][ip][k] * (1j * C1_y / 2. + C2_y / 2. * Ay[i][k]) \\\n",
    "                 + psi[0][im][k] * (1j * C1_y / 2. - C2_y / 2. * Ay[i][k]) \\\n",
    "                 + psi[0][i][kp] * (1j * C1_x / 2. + C2_x / 2. * Ax[i][k]) \\\n",
    "                 + psi[0][i][km] * (1j * C1_x / 2. - C2_x / 2. * Ax[i][k])\n",
    "                else: # we are inside the wall, solution is set to zero\n",
    "                     psi[1][i][k] = 0\n",
    "                        \n",
    "        psi[0] = psi[1]\n",
    "\n",
    "    return psi"
   ]
  },
  {
   "cell_type": "code",
   "execution_count": 4,
   "id": "97385a36-d223-48af-aaae-683323f1dbb7",
   "metadata": {
    "tags": []
   },
   "outputs": [
    {
     "ename": "NameError",
     "evalue": "name 'np' is not defined",
     "output_type": "error",
     "traceback": [
      "\u001b[1;31m---------------------------------------------------------------------------\u001b[0m",
      "\u001b[1;31mNameError\u001b[0m                                 Traceback (most recent call last)",
      "Cell \u001b[1;32mIn[4], line 2\u001b[0m\n\u001b[0;32m      1\u001b[0m \u001b[38;5;66;03m# solution is computed with no magnetic field\u001b[39;00m\n\u001b[1;32m----> 2\u001b[0m solution \u001b[38;5;241m=\u001b[39m np\u001b[38;5;241m.\u001b[39mabs(compute_psi(psi_0\u001b[38;5;241m.\u001b[39mastype(\u001b[38;5;28mcomplex\u001b[39m),C1_x,C1_y,\u001b[38;5;241m0\u001b[39m,\u001b[38;5;241m0\u001b[39m,\u001b[38;5;241m0\u001b[39m)[\u001b[38;5;241m1\u001b[39m])\u001b[38;5;241m*\u001b[39m\u001b[38;5;241m*\u001b[39m\u001b[38;5;241m2\u001b[39m\n",
      "\u001b[1;31mNameError\u001b[0m: name 'np' is not defined"
     ]
    }
   ],
   "source": [
    "# solution is computed with no magnetic field\n",
    "solution = np.abs(compute_psi(psi_0.astype(complex),C1_x,C1_y,0,0,0)[1])**2"
   ]
  },
  {
   "cell_type": "code",
   "execution_count": 5,
   "id": "58539f6a-e503-4f22-8ec5-8ef0b8c4f2da",
   "metadata": {
    "tags": []
   },
   "outputs": [
    {
     "ename": "NameError",
     "evalue": "name 'np' is not defined",
     "output_type": "error",
     "traceback": [
      "\u001b[1;31m---------------------------------------------------------------------------\u001b[0m",
      "\u001b[1;31mNameError\u001b[0m                                 Traceback (most recent call last)",
      "Cell \u001b[1;32mIn[5], line 2\u001b[0m\n\u001b[0;32m      1\u001b[0m \u001b[38;5;66;03m# solution is computed with magnetic field\u001b[39;00m\n\u001b[1;32m----> 2\u001b[0m solution_shift \u001b[38;5;241m=\u001b[39m np\u001b[38;5;241m.\u001b[39mabs(compute_psi(psi_0\u001b[38;5;241m.\u001b[39mastype(\u001b[38;5;28mcomplex\u001b[39m),C1_x,C1_y,C2_x,C2_y,C3)[\u001b[38;5;241m1\u001b[39m])\u001b[38;5;241m*\u001b[39m\u001b[38;5;241m*\u001b[39m\u001b[38;5;241m2\u001b[39m\n",
      "\u001b[1;31mNameError\u001b[0m: name 'np' is not defined"
     ]
    }
   ],
   "source": [
    "# solution is computed with magnetic field\n",
    "solution_shift = np.abs(compute_psi(psi_0.astype(complex),C1_x,C1_y,C2_x,C2_y,C3)[1])**2"
   ]
  },
  {
   "cell_type": "code",
   "execution_count": 6,
   "id": "aad10b94-a119-4a02-bd87-d6040a106f03",
   "metadata": {
    "tags": []
   },
   "outputs": [
    {
     "ename": "NameError",
     "evalue": "name 'plt' is not defined",
     "output_type": "error",
     "traceback": [
      "\u001b[1;31m---------------------------------------------------------------------------\u001b[0m",
      "\u001b[1;31mNameError\u001b[0m                                 Traceback (most recent call last)",
      "Cell \u001b[1;32mIn[6], line 2\u001b[0m\n\u001b[0;32m      1\u001b[0m \u001b[38;5;66;03m# Plot of the solutions\u001b[39;00m\n\u001b[1;32m----> 2\u001b[0m fig, axs \u001b[38;5;241m=\u001b[39m plt\u001b[38;5;241m.\u001b[39msubplots(\u001b[38;5;241m1\u001b[39m, \u001b[38;5;241m2\u001b[39m, figsize\u001b[38;5;241m=\u001b[39m(\u001b[38;5;241m12\u001b[39m, \u001b[38;5;241m6\u001b[39m)) \n\u001b[0;32m      4\u001b[0m \u001b[38;5;66;03m# first subplot\u001b[39;00m\n\u001b[0;32m      5\u001b[0m axs[\u001b[38;5;241m0\u001b[39m]\u001b[38;5;241m.\u001b[39mimshow((solution), cmap\u001b[38;5;241m=\u001b[39m\u001b[38;5;124m'\u001b[39m\u001b[38;5;124minferno\u001b[39m\u001b[38;5;124m'\u001b[39m, origin\u001b[38;5;241m=\u001b[39m\u001b[38;5;124m'\u001b[39m\u001b[38;5;124mlower\u001b[39m\u001b[38;5;124m'\u001b[39m, extent\u001b[38;5;241m=\u001b[39m[\u001b[38;5;241m-\u001b[39m\u001b[38;5;241m3\u001b[39m, \u001b[38;5;241m3\u001b[39m, \u001b[38;5;241m-\u001b[39m\u001b[38;5;241m3\u001b[39m, \u001b[38;5;241m3\u001b[39m])\n",
      "\u001b[1;31mNameError\u001b[0m: name 'plt' is not defined"
     ]
    }
   ],
   "source": [
    "# Plot of the solutions\n",
    "fig, axs = plt.subplots(1, 2, figsize=(12, 6)) \n",
    "\n",
    "# first subplot\n",
    "axs[0].imshow((solution), cmap='inferno', origin='lower', extent=[-3, 3, -3, 3])\n",
    "axs[0].set_title(r'Solution with $B=0$')\n",
    "axs[0].set_xlabel('x [cm]')\n",
    "axs[0].set_ylabel('y [cm]')\n",
    "axs[0].set_aspect('equal')\n",
    "axs[0].grid(True)\n",
    "axs[0].set_xlim([-3, 3])\n",
    "axs[0].set_ylim([-3, 3])\n",
    "axs[0].set_xticks([-3, -2, -1, 0, 1, 2, 3])\n",
    "\n",
    "# Second subplot\n",
    "axs[1].imshow((solution_shift), cmap='inferno', origin='lower', extent=[-3, 3, -3, 3])\n",
    "axs[1].set_title(r'Solution with $B\\neq0$')\n",
    "axs[1].set_xlabel('x [cm]')\n",
    "axs[1].set_ylabel('y [cm]')\n",
    "axs[1].set_aspect('equal')\n",
    "axs[1].grid(True)\n",
    "axs[1].set_xlim([-3, 3])\n",
    "axs[1].set_ylim([-3, 3])\n",
    "axs[1].set_xticks([-3, -2, -1, 0, 1, 2, 3])\n",
    "\n",
    "plt.tight_layout()\n",
    "plt.show()"
   ]
  },
  {
   "cell_type": "code",
   "execution_count": 7,
   "id": "c37ee9ff-7eab-48d4-9440-11f01ad10e0e",
   "metadata": {
    "tags": []
   },
   "outputs": [
    {
     "ename": "NameError",
     "evalue": "name 'solution' is not defined",
     "output_type": "error",
     "traceback": [
      "\u001b[1;31m---------------------------------------------------------------------------\u001b[0m",
      "\u001b[1;31mNameError\u001b[0m                                 Traceback (most recent call last)",
      "Cell \u001b[1;32mIn[7], line 3\u001b[0m\n\u001b[0;32m      1\u001b[0m \u001b[38;5;66;03m# print the solutions\u001b[39;00m\n\u001b[0;32m      2\u001b[0m \u001b[38;5;28;01mwith\u001b[39;00m \u001b[38;5;28mopen\u001b[39m(\u001b[38;5;124m\"\u001b[39m\u001b[38;5;124msolutions/solution_B_0_400pt.txt\u001b[39m\u001b[38;5;124m\"\u001b[39m, \u001b[38;5;124m\"\u001b[39m\u001b[38;5;124mw\u001b[39m\u001b[38;5;124m\"\u001b[39m) \u001b[38;5;28;01mas\u001b[39;00m file:\n\u001b[1;32m----> 3\u001b[0m     \u001b[38;5;28;01mfor\u001b[39;00m riga \u001b[38;5;129;01min\u001b[39;00m solution:\n\u001b[0;32m      4\u001b[0m         file\u001b[38;5;241m.\u001b[39mwrite(\u001b[38;5;124mf\u001b[39m\u001b[38;5;124m\"\u001b[39m\u001b[38;5;124m[\u001b[39m\u001b[38;5;132;01m{\u001b[39;00m\u001b[38;5;124m'\u001b[39m\u001b[38;5;124m, \u001b[39m\u001b[38;5;124m'\u001b[39m\u001b[38;5;241m.\u001b[39mjoin(\u001b[38;5;28mmap\u001b[39m(\u001b[38;5;28mstr\u001b[39m,\u001b[38;5;250m \u001b[39mriga))\u001b[38;5;132;01m}\u001b[39;00m\u001b[38;5;124m]\u001b[39m\u001b[38;5;130;01m\\n\u001b[39;00m\u001b[38;5;124m\"\u001b[39m)\n\u001b[0;32m      6\u001b[0m \u001b[38;5;28;01mwith\u001b[39;00m \u001b[38;5;28mopen\u001b[39m(\u001b[38;5;124m\"\u001b[39m\u001b[38;5;124msolutions/solution_B_05mu_400pt.txt\u001b[39m\u001b[38;5;124m\"\u001b[39m, \u001b[38;5;124m\"\u001b[39m\u001b[38;5;124mw\u001b[39m\u001b[38;5;124m\"\u001b[39m) \u001b[38;5;28;01mas\u001b[39;00m file:\n",
      "\u001b[1;31mNameError\u001b[0m: name 'solution' is not defined"
     ]
    }
   ],
   "source": [
    "# print the solutions\n",
    "with open(\"solutions/solution_B_0_400pt.txt\", \"w\") as file:\n",
    "    for riga in solution:\n",
    "        file.write(f\"[{', '.join(map(str, riga))}]\\n\")\n",
    "        \n",
    "with open(\"solutions/solution_B_05mu_400pt.txt\", \"w\") as file:\n",
    "    for riga in solution_shift:\n",
    "        file.write(f\"[{', '.join(map(str, riga))}]\\n\")"
   ]
  },
  {
   "cell_type": "code",
   "execution_count": 8,
   "id": "0ba336d7-ac74-4aaa-b515-7da78a53a91f",
   "metadata": {
    "tags": []
   },
   "outputs": [
    {
     "ename": "NameError",
     "evalue": "name 'np' is not defined",
     "output_type": "error",
     "traceback": [
      "\u001b[1;31m---------------------------------------------------------------------------\u001b[0m",
      "\u001b[1;31mNameError\u001b[0m                                 Traceback (most recent call last)",
      "Cell \u001b[1;32mIn[8], line 5\u001b[0m\n\u001b[0;32m      2\u001b[0m \u001b[38;5;28;01mfrom\u001b[39;00m \u001b[38;5;21;01mscipy\u001b[39;00m \u001b[38;5;28;01mimport\u001b[39;00m stats\n\u001b[0;32m      4\u001b[0m \u001b[38;5;66;03m# \u001b[39;00m\n\u001b[1;32m----> 5\u001b[0m data_0 \u001b[38;5;241m=\u001b[39m np\u001b[38;5;241m.\u001b[39mloadtxt(\u001b[38;5;124m\"\u001b[39m\u001b[38;5;124msolutions/solution_B_0_400pt.txt\u001b[39m\u001b[38;5;124m\"\u001b[39m, delimiter\u001b[38;5;241m=\u001b[39m\u001b[38;5;124m'\u001b[39m\u001b[38;5;124m,\u001b[39m\u001b[38;5;124m'\u001b[39m, dtype\u001b[38;5;241m=\u001b[39m\u001b[38;5;28mstr\u001b[39m)\n\u001b[0;32m      6\u001b[0m data_0 \u001b[38;5;241m=\u001b[39m np\u001b[38;5;241m.\u001b[39mchar\u001b[38;5;241m.\u001b[39mstrip(data_0, \u001b[38;5;124m'\u001b[39m\u001b[38;5;124m[]\u001b[39m\u001b[38;5;124m'\u001b[39m)\n\u001b[0;32m      7\u001b[0m data_0 \u001b[38;5;241m=\u001b[39m data_0\u001b[38;5;241m.\u001b[39mastype(\u001b[38;5;28mfloat\u001b[39m)\n",
      "\u001b[1;31mNameError\u001b[0m: name 'np' is not defined"
     ]
    }
   ],
   "source": [
    "from scipy.signal import find_peaks\n",
    "from scipy import stats\n",
    "\n",
    "# \n",
    "data_0 = np.loadtxt(\"solutions/solution_B_0_400pt.txt\", delimiter=',', dtype=str)\n",
    "data_0 = np.char.strip(data_0, '[]')\n",
    "data_0 = data_0.astype(float)\n",
    "#\n",
    "data_b = np.loadtxt(\"solutions/solution_B_05mu_400pt.txt\", delimiter=',', dtype=str)\n",
    "data_b = np.char.strip(data_b, '[]')\n",
    "data_b = data_b.astype(float)\n",
    "\n",
    "# revelation screen position on x axis\n",
    "x_screen = 1.5\n",
    "spot = int((x_screen + x_0) / a_x)\n",
    "# Save the solution on the screen\n",
    "slice_0 = data_0[:, spot]\n",
    "slice_b = data_b[:, spot]\n",
    "\n",
    "#-----------------------------------------------\n",
    "\n",
    "# FIND PEAKS\n",
    "\n",
    "# interval extremes in which peaks are to be searched\n",
    "int_min = -0.6\n",
    "int_max = 0.7\n",
    "interval = np.where((vec_y >= int_min) & (vec_y <= int_max))[0] # interval in which peaks are to be searched\n",
    "\n",
    "# Find peaks for still solution\n",
    "slice_0_int = slice_0[interval] # restrict solution to chosen interval\n",
    "peaks_0, _ = find_peaks(slice_0_int) # find peaks\n",
    "periods_0 = np.diff(vec_y[interval][peaks_0]) # find period of the interference pattern\n",
    "# compute mean and std dev of periods\n",
    "mean_0 = round(np.mean(periods_0),4)\n",
    "\n",
    "# Find peaks for solution with magnetic field\n",
    "slice_b_int = slice_b[interval] # restrict solution to chosen interval\n",
    "peaks_b, _ = find_peaks(slice_b_int) # find peaks\n",
    "periods_b = np.diff(vec_y[interval][peaks_b]) # find period of the interference pattern\n",
    "# compute mean and std dev of periods\n",
    "mean_b = round(np.mean(periods_b),4)\n",
    "\n",
    "std_dev = round(4*(a_y)/np.sqrt(4),4)\n",
    "\n",
    "#-----------------------------------------------\n",
    "\n",
    "# print peaks position along the reveal screen\n",
    "with open('analysis/max_0.txt', 'w') as file:\n",
    "    for value in vec_y[interval][peaks_0]:\n",
    "        file.write(str(value) + '\\n')\n",
    "\n",
    "with open('analysis/max_b.txt', 'w') as file:\n",
    "    for value in vec_y[interval][peaks_b]:\n",
    "        file.write(str(value) + '\\n')\n",
    "\n",
    "# Plot interference pattern for still and magnetic solutions\n",
    "plt.figure(figsize=(12, 6))\n",
    "\n",
    "plt.plot(vec_y, slice_0, label='$B=0$', color='blue')\n",
    "plt.plot(vec_y[interval][peaks_0], slice_0_int[peaks_0], 'bo', markersize=5, label='Peaks $B=0$')\n",
    "\n",
    "plt.plot(vec_y, slice_b, label=f'$B={B}\\,\\mu T$', color='red')\n",
    "plt.plot(vec_y[interval][peaks_b], slice_b_int[peaks_b], 'ro', markersize=5, label=f'Peaks $B={B}\\,\\mu T$')\n",
    "\n",
    "plt.title(f'Interference pattern with $l={l}\\,cm$ e $d={d}\\,cm$',fontsize=12)\n",
    "plt.xlabel('y [cm]',fontsize=20)\n",
    "plt.ylabel(r\"$\\left|\\psi(D,y)\\right|^2$\",fontsize=20)\n",
    "plt.tick_params(axis='x', labelsize=18)  \n",
    "plt.tick_params(axis='y', labelsize=18)\n",
    "plt.legend(fontsize=17)\n",
    "plt.grid(True)\n",
    "plt.savefig(\"figures/peaks_05.pdf\")\n",
    "plt.show()\n",
    "\n",
    "#comparison\n",
    "\n",
    "delta_y = np.absolute(np.mean(vec_y[interval][peaks_0] - vec_y[interval][peaks_b]))\n",
    "delta_y_exp = np.absolute((e_charge*mean_0*R**2*B)/(2*hbar))\n",
    "\n",
    "print(\"Expected shift:\", round(delta_y_exp,3))\n",
    "print(\"Measured shift:\", round(delta_y,3))\n",
    "print(\"t value:\", round(np.absolute(delta_y-delta_y_exp)/std_dev,2))"
   ]
  }
 ],
 "metadata": {
  "kernelspec": {
   "display_name": "Python 3 (ipykernel)",
   "language": "python",
   "name": "python3"
  },
  "language_info": {
   "codemirror_mode": {
    "name": "ipython",
    "version": 3
   },
   "file_extension": ".py",
   "mimetype": "text/x-python",
   "name": "python",
   "nbconvert_exporter": "python",
   "pygments_lexer": "ipython3",
   "version": "3.11.4"
  }
 },
 "nbformat": 4,
 "nbformat_minor": 5
}
