{
 "cells": [
  {
   "cell_type": "code",
   "execution_count": 3,
   "id": "1c8101b6-ee3a-49a8-9080-3433a1a89b04",
   "metadata": {
    "tags": []
   },
   "outputs": [
    {
     "ename": "NameError",
     "evalue": "name 'x_0' is not defined",
     "output_type": "error",
     "traceback": [
      "\u001b[1;31m---------------------------------------------------------------------------\u001b[0m",
      "\u001b[1;31mNameError\u001b[0m                                 Traceback (most recent call last)",
      "Cell \u001b[1;32mIn[3], line 15\u001b[0m\n\u001b[0;32m     13\u001b[0m \u001b[38;5;66;03m# revelation screen position on x axis\u001b[39;00m\n\u001b[0;32m     14\u001b[0m x_screen \u001b[38;5;241m=\u001b[39m \u001b[38;5;241m1.5\u001b[39m\n\u001b[1;32m---> 15\u001b[0m spot \u001b[38;5;241m=\u001b[39m \u001b[38;5;28mint\u001b[39m((x_screen \u001b[38;5;241m+\u001b[39m x_0) \u001b[38;5;241m/\u001b[39m a_x)\n\u001b[0;32m     16\u001b[0m \u001b[38;5;66;03m# Save the solution on the screen\u001b[39;00m\n\u001b[0;32m     17\u001b[0m slice_0 \u001b[38;5;241m=\u001b[39m data_0[:, spot]\n",
      "\u001b[1;31mNameError\u001b[0m: name 'x_0' is not defined"
     ]
    }
   ],
   "source": [
    "import numpy as np\n",
    "from scipy.signal import find_peaks\n",
    "\n",
    "# \n",
    "data_0 = np.loadtxt(\"solution_B_0.txt\", delimiter=',', dtype=str)\n",
    "data_0 = np.char.strip(data_0, '[]')\n",
    "data_0 = data_0.astype(float)\n",
    "#\n",
    "data_b = np.loadtxt(\"solution_B_05.txt\", delimiter=',', dtype=str)\n",
    "data_b = np.char.strip(data_b, '[]')\n",
    "data_b = data_b.astype(float)\n",
    "\n",
    "# revelation screen position on x axis\n",
    "x_screen = 1.5\n",
    "spot = int((x_screen + x_0) / a_x)\n",
    "# Save the solution on the screen\n",
    "slice_0 = data_0[:, spot]\n",
    "slice_b = data_b[:, spot]\n",
    "\n",
    "#-----------------------------------------------\n",
    "\n",
    "# FIND PEAKS\n",
    "\n",
    "# interval extremes in which peaks are to be searched\n",
    "int_min = -2 \n",
    "int_max = 2 \n",
    "interval = np.where((vec_y >= int_min) & (vec_y <= int_max))[0] # interval in which peaks are to be searched\n",
    "\n",
    "# Find peaks for still solution\n",
    "slice_0_int = slice_0[interval] # restrict solution to chosen interval\n",
    "peaks_0, _ = find_peaks(slice_0_int) # find peaks\n",
    "periods_0 = np.diff(vec_y[interval][peaks_0]) # find period of the interference pattern\n",
    "# compute mean and std dev of periods\n",
    "media_periodi_0 = np.mean(periods_0)\n",
    "std_dev_periodi_0 = 4*(a_y)/np.sqrt(12)/np.sqrt(4)\n",
    "\n",
    "# Find peaks for solution with magnetic field\n",
    "slice_b_int = slice_b[interval] # restrict solution to chosen interval\n",
    "peaks_b, _ = find_peaks(slice_b_int) # find peaks\n",
    "periods_b = np.diff(vec_y[interval][peaks_0]) # find period of the interference pattern\n",
    "# compute mean and std dev of periods\n",
    "media_periodi_b = np.mean(periods_b)\n",
    "std_dev_periodi_b = 4*(a_y)/np.sqrt(12)/np.sqrt(4)\n",
    "\n",
    "#-----------------------------------------------\n",
    "\n",
    "# print peaks position along the reveal screen\n",
    "with open('max_0.txt', 'w') as file:\n",
    "    for value in vec_y[interval][peaks_0]:\n",
    "        file.write(str(value) + '\\n')\n",
    "\n",
    "with open('max_b.txt', 'w') as file:\n",
    "    for value in vec_y[interval][peaks_b]:\n",
    "        file.write(str(value) + '\\n')\n",
    "\n",
    "# Plot interference pattern for still and magnetic solutions\n",
    "plt.figure(figsize=(12, 6))\n",
    "plt.plot(vec_y, signal_imp, label='$B=0$', color='blue')\n",
    "plt.plot(vec_y[interval][peaks_0], slice_0_int[peaks_0], 'bo', markersize=5, label='Massimi $B=0$')\n",
    "\n",
    "plt.plot(vec_y, signal_per, label=f'$B={B}\\,\\mu T$', color='red')\n",
    "plt.plot(vec_y[interval][peaks_b], slice_b_int[peaks_b], 'ro', markersize=5, label=f'Massimi $B={B}\\,\\mu T$')\n",
    "#plt.title(f'Confronto figure di interferenza con $l={l}\\,cm$ e $d={d}\\,cm$',fontsize=12)\n",
    "plt.xlabel('y [cm]',fontsize=20)\n",
    "plt.ylabel(r\"$\\left|\\psi(D,y)\\right|^2$\",fontsize=20)\n",
    "plt.tick_params(axis='x', labelsize=18)  # Imposta la dimensione del font per l'asse x\n",
    "plt.tick_params(axis='y', labelsize=18)\n",
    "plt.legend(fontsize=17)\n",
    "plt.grid(True)\n",
    "plt.savefig(\"B8HD.pdf\")\n",
    "plt.show()\n",
    "\n",
    "\n",
    "# Stampa la media dei periodi tra i picchi\n",
    "print(\"Media dei periodi tra i picchi nell'intervallo per $B=0$:\", media_periodi_imp,std_dev_periodi_imp)\n",
    "print(\"Media dei periodi tra i picchi nell'intervallo per $B=0.1$\", \":\", media_periodi_per)\n",
    "print(periods_imp)\n"
   ]
  },
  {
   "cell_type": "code",
   "execution_count": null,
   "id": "fb2f2e54-7785-43fe-a711-e5a7a8c84fe6",
   "metadata": {},
   "outputs": [],
   "source": []
  }
 ],
 "metadata": {
  "kernelspec": {
   "display_name": "Python 3 (ipykernel)",
   "language": "python",
   "name": "python3"
  },
  "language_info": {
   "codemirror_mode": {
    "name": "ipython",
    "version": 3
   },
   "file_extension": ".py",
   "mimetype": "text/x-python",
   "name": "python",
   "nbconvert_exporter": "python",
   "pygments_lexer": "ipython3",
   "version": "3.11.4"
  }
 },
 "nbformat": 4,
 "nbformat_minor": 5
}
